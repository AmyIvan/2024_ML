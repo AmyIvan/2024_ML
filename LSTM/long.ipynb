{
 "cells": [
  {
   "cell_type": "code",
   "execution_count": 1,
   "metadata": {},
   "outputs": [
    {
     "name": "stderr",
     "output_type": "stream",
     "text": [
      "2025-01-01 11:07:57.596445: I tensorflow/core/platform/cpu_feature_guard.cc:182] This TensorFlow binary is optimized to use available CPU instructions in performance-critical operations.\n",
      "To enable the following instructions: AVX2 FMA, in other operations, rebuild TensorFlow with the appropriate compiler flags.\n",
      "2025-01-01 11:07:58.364487: W tensorflow/compiler/tf2tensorrt/utils/py_utils.cc:38] TF-TRT Warning: Could not find TensorRT\n"
     ]
    }
   ],
   "source": [
    "import numpy as np\n",
    "import pandas as pd\n",
    "from sklearn.preprocessing import MinMaxScaler\n",
    "from tensorflow.keras.models import Sequential\n",
    "from tensorflow.keras.layers import LSTM, Dense\n",
    "from tensorflow.keras.optimizers import Adam\n"
   ]
  },
  {
   "cell_type": "code",
   "execution_count": null,
   "metadata": {},
   "outputs": [],
   "source": [
    "\n",
    "# 1. 读取数据\n",
    "# 假设数据包括 'date', 'holiday', 'nasdaq_index', 'stock_price'\n",
    "data = pd.read_csv(\"stock_data.csv\")\n",
    "\n",
    "# 2. 特征工程\n",
    "# 日期拆分为年、月、日，并进行周期性编码\n",
    "data['year'] = pd.to_datetime(data['date']).dt.year\n",
    "data['month'] = pd.to_datetime(data['date']).dt.month\n",
    "data['day'] = pd.to_datetime(data['date']).dt.day\n",
    "\n",
    "data['month_sin'] = np.sin(2 * np.pi * data['month'] / 12)\n",
    "data['month_cos'] = np.cos(2 * np.pi * data['month'] / 12)\n",
    "\n",
    "# 提取特征\n",
    "features = ['month_sin', 'month_cos', 'day', 'holiday', 'nasdaq_index']\n",
    "target = ['stock_price']\n",
    "\n",
    "# 数据归一化\n",
    "scaler_features = MinMaxScaler()\n",
    "scaler_target = MinMaxScaler()\n",
    "\n",
    "data[features] = scaler_features.fit_transform(data[features])\n",
    "data[target] = scaler_target.fit_transform(data[target])\n",
    "\n",
    "# 3. 创建时间序列数据\n",
    "def create_sequences(data, feature_cols, target_col, lookback=10):\n",
    "    X, y = [], []\n",
    "    for i in range(len(data) - lookback):\n",
    "        X.append(data[feature_cols].iloc[i:i + lookback].values)\n",
    "        y.append(data[target_col].iloc[i + lookback].values[0])\n",
    "    return np.array(X), np.array(y)\n",
    "\n",
    "lookback = 10  # 使用前 10 天数据预测下一天\n",
    "X, y = create_sequences(data, features, target)\n",
    "\n",
    "# 4. 划分训练集和测试集\n",
    "split = int(len(X) * 0.8)\n",
    "X_train, X_test = X[:split], X[split:]\n",
    "y_train, y_test = y[:split], y[split:]\n",
    "\n",
    "# 5. 构建 LSTM 模型\n",
    "model = Sequential([\n",
    "    LSTM(50, return_sequences=False, input_shape=(lookback, len(features))),\n",
    "    Dense(1)  # 输出一维股价预测值\n",
    "])\n",
    "\n",
    "# 编译模型\n",
    "model.compile(optimizer=Adam(learning_rate=0.001), loss='mean_squared_error')\n",
    "\n",
    "# 6. 训练模型\n",
    "history = model.fit(X_train, y_train, epochs=50, batch_size=32, validation_data=(X_test, y_test), verbose=1)\n",
    "\n",
    "# 7. 评估和预测\n",
    "loss = model.evaluate(X_test, y_test)\n",
    "print(f\"Test Loss: {loss}\")\n",
    "\n",
    "# 预测未来股价\n",
    "y_pred = model.predict(X_test)\n",
    "\n",
    "# 反归一化预测结果\n",
    "y_pred_actual = scaler_target.inverse_transform(y_pred)\n",
    "y_test_actual = scaler_target.inverse_transform(y_test.reshape(-1, 1))\n",
    "\n",
    "# 打印实际值与预测值\n",
    "print(\"Actual values:\", y_test_actual[:5].flatten())\n",
    "print(\"Predicted values:\", y_pred_actual[:5].flatten())\n"
   ]
  }
 ],
 "metadata": {
  "kernelspec": {
   "display_name": "env_py_38",
   "language": "python",
   "name": "python3"
  },
  "language_info": {
   "codemirror_mode": {
    "name": "ipython",
    "version": 3
   },
   "file_extension": ".py",
   "mimetype": "text/x-python",
   "name": "python",
   "nbconvert_exporter": "python",
   "pygments_lexer": "ipython3",
   "version": "3.8.20"
  }
 },
 "nbformat": 4,
 "nbformat_minor": 2
}
