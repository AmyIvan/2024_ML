{
 "cells": [
  {
   "cell_type": "code",
   "execution_count": 40,
   "metadata": {},
   "outputs": [],
   "source": [
    "import numpy as np"
   ]
  },
  {
   "cell_type": "code",
   "execution_count": 41,
   "metadata": {},
   "outputs": [
    {
     "name": "stdout",
     "output_type": "stream",
     "text": [
      "& 0.045 & 0.1503 & 0.212 \\\\\n",
      "& 0.0403 & 0.1411 & 0.2007 \\\\\n",
      "& 0.0385 & 0.1327 & 0.1963 \\\\\n",
      "& 0.041 & 0.1413 & 0.2025 \\\\\n",
      "& 0.0417 & 0.1383 & 0.2041 \\\\\n",
      "& 0.0413 & 0.14074 & 0.20312000000000002 \\\\\n"
     ]
    }
   ],
   "source": [
    "# LSTM short\n",
    "mse = [0.045, 0.0403, 0.0385, 0.041, 0.0417]\n",
    "mae = [0.1503, 0.1411, 0.1327, 0.1413, 0.1383]\n",
    "rmse = [0.212, 0.2007, 0.1963, 0.2025, 0.2041]\n",
    "for i in range(len(mse)):\n",
    "    print('&', mse[i], '&', mae[i], '&', rmse[i], '\\\\\\\\')\n",
    "print('&', np.mean(mse), '&', np.mean(mae), '&', np.mean(rmse), '\\\\\\\\')"
   ]
  },
  {
   "cell_type": "code",
   "execution_count": 42,
   "metadata": {},
   "outputs": [
    {
     "name": "stdout",
     "output_type": "stream",
     "text": [
      "& 0.0451 & 0.1556 & 0.2123 \\\\\n",
      "& 0.0421 & 0.1457 & 0.2051 \\\\\n",
      "& 0.0474 & 0.1589 & 0.2177 \\\\\n",
      "& 0.0446 & 0.1513 & 0.2112 \\\\\n",
      "& 0.0507 & 0.1673 & 0.2252 \\\\\n",
      "& 0.04598 & 0.15576 & 0.21430000000000002 \\\\\n"
     ]
    }
   ],
   "source": [
    "# LSTM long\n",
    "mse = [0.0451, 0.0421, 0.0474, 0.0446, 0.0507]\n",
    "mae = [0.1556, 0.1457, 0.1589, 0.1513, 0.1673]\n",
    "rmse = [0.2123, 0.2051, 0.2177, 0.2112, 0.2252]\n",
    "for i in range(len(mse)):\n",
    "    print('&', mse[i], '&', mae[i], '&', rmse[i], '\\\\\\\\')\n",
    "print('&', np.mean(mse), '&', np.mean(mae), '&', np.mean(rmse), '\\\\\\\\')"
   ]
  },
  {
   "cell_type": "code",
   "execution_count": 43,
   "metadata": {},
   "outputs": [
    {
     "name": "stdout",
     "output_type": "stream",
     "text": [
      "& 0.1 & 0.1042 & 0.3162 \\\\\n",
      "& 0.0217 & 0.1044 & 0.1473 \\\\\n",
      "& 0.0279 & 0.1184 & 0.1671 \\\\\n",
      "& 0.0257 & 0.115 & 0.1604 \\\\\n",
      "& 0.0304 & 0.123 & 0.1743 \\\\\n",
      "& 0.04114 & 0.11299999999999999 & 0.19305999999999998 \\\\\n"
     ]
    }
   ],
   "source": [
    "# transformer short\n",
    "mse = [0.1, 0.0217, 0.0279, 0.0257, 0.0304]\n",
    "mae = [0.1042, 0.1044, 0.1184, 0.115, 0.123]\n",
    "rmse = [0.3162, 0.1473, 0.1671, 0.1604, 0.1743]\n",
    "for i in range(len(mse)):\n",
    "    print('&', mse[i], '&', mae[i], '&', rmse[i], '\\\\\\\\')\n",
    "print('&', np.mean(mse), '&', np.mean(mae), '&', np.mean(rmse), '\\\\\\\\')"
   ]
  },
  {
   "cell_type": "code",
   "execution_count": 44,
   "metadata": {},
   "outputs": [
    {
     "name": "stdout",
     "output_type": "stream",
     "text": [
      "& 0.0274 & 0.1149 & 0.1656 \\\\\n",
      "& 0.0288 & 0.12 & 0.1698 \\\\\n",
      "& 0.0291 & 0.1202 & 0.1705 \\\\\n",
      "& 0.0288 & 0.12 & 0.1697 \\\\\n",
      "& 0.0296 & 0.1208 & 0.1721 \\\\\n",
      "& 0.028739999999999998 & 0.11918 & 0.16954 \\\\\n"
     ]
    }
   ],
   "source": [
    "# transformer long\n",
    "mse = [0.0274, 0.0288, 0.0291, 0.0288, 0.0296]\n",
    "mae = [0.1149, 0.12, 0.1202, 0.12, 0.1208]\n",
    "rmse = [0.1656, 0.1698, 0.1705, 0.1697, 0.1721]\n",
    "for i in range(len(mse)):\n",
    "    print('&', mse[i], '&', mae[i], '&', rmse[i], '\\\\\\\\')\n",
    "print('&', np.mean(mse), '&', np.mean(mae), '&', np.mean(rmse), '\\\\\\\\')"
   ]
  },
  {
   "cell_type": "code",
   "execution_count": 45,
   "metadata": {},
   "outputs": [
    {
     "name": "stdout",
     "output_type": "stream",
     "text": [
      "& 0.0224 & 0.1066 & 0.1496 \\\\\n",
      "& 0.0211 & 0.1057 & 0.1451 \\\\\n",
      "& 0.0241 & 0.1168 & 0.1553 \\\\\n",
      "& 0.0216 & 0.105 & 0.147 \\\\\n",
      "& 0.0193 & 0.1032 & 0.1389 \\\\\n",
      "& 0.0217 & 0.10746 & 0.14718 \\\\\n"
     ]
    }
   ],
   "source": [
    "# informer short\n",
    "mse = [0.0224, 0.0211, 0.0241, 0.0216, 0.0193]\n",
    "mae = [0.1066, 0.1057, 0.1168, 0.105, 0.1032]\n",
    "rmse = [0.1496, 0.1451, 0.1553, 0.147, 0.1389]\n",
    "for i in range(len(mse)):\n",
    "    print('&', mse[i], '&', mae[i], '&', rmse[i], '\\\\\\\\')\n",
    "print('&', np.mean(mse), '&', np.mean(mae), '&', np.mean(rmse), '\\\\\\\\')"
   ]
  },
  {
   "cell_type": "code",
   "execution_count": 46,
   "metadata": {},
   "outputs": [
    {
     "name": "stdout",
     "output_type": "stream",
     "text": [
      "& 0.0261 & 0.1114 & 0.1614 \\\\\n",
      "& 0.0252 & 0.11 & 0.1589 \\\\\n",
      "& 0.024 & 0.1073 & 0.155 \\\\\n",
      "& 0.0229 & 0.1077 & 0.1514 \\\\\n",
      "& 0.0254 & 0.1165 & 0.1594 \\\\\n",
      "& 0.024720000000000002 & 0.11058000000000001 & 0.15722 \\\\\n"
     ]
    }
   ],
   "source": [
    "# informer short\n",
    "mse = [0.0261, 0.0252, 0.024, 0.0229, 0.0254]\n",
    "mae = [0.1114, 0.11, 0.1073, 0.1077, 0.1165]\n",
    "rmse = [0.1614, 0.1589, 0.155, 0.1514, 0.1594]\n",
    "for i in range(len(mse)):\n",
    "    print('&', mse[i], '&', mae[i], '&', rmse[i], '\\\\\\\\')\n",
    "print('&', np.mean(mse), '&', np.mean(mae), '&', np.mean(rmse), '\\\\\\\\')"
   ]
  }
 ],
 "metadata": {
  "kernelspec": {
   "display_name": "ML",
   "language": "python",
   "name": "python3"
  },
  "language_info": {
   "codemirror_mode": {
    "name": "ipython",
    "version": 3
   },
   "file_extension": ".py",
   "mimetype": "text/x-python",
   "name": "python",
   "nbconvert_exporter": "python",
   "pygments_lexer": "ipython3",
   "version": "3.8.20"
  }
 },
 "nbformat": 4,
 "nbformat_minor": 2
}
