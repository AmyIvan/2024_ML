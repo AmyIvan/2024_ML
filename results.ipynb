{
 "cells": [
  {
   "cell_type": "code",
   "execution_count": 27,
   "metadata": {},
   "outputs": [],
   "source": [
    "import numpy as np"
   ]
  },
  {
   "cell_type": "code",
   "execution_count": null,
   "metadata": {},
   "outputs": [],
   "source": [
    "# LSTM short\n",
    "mse = [0.045, 0.0403, 0.0385, 0.041, 0.0417]\n",
    "mae = [0.1503, 0.1411, 0.1327, 0.1413, 0.1383]\n",
    "rmse = [0.212, 0.2007, 0.1963, 0.2025, 0.2041]"
   ]
  },
  {
   "cell_type": "code",
   "execution_count": null,
   "metadata": {},
   "outputs": [],
   "source": [
    "# LSTM long\n",
    "mse = [0.0451, 0.0421, 0.0474, 0.0446, 0.0507]\n",
    "mae = [0.1556, 0.1457, 0.1589, 0.1513, 0.1673]\n",
    "rmse = [0.2123, 0.2051, 0.2177, 0.2112, 0.2252]"
   ]
  },
  {
   "cell_type": "code",
   "execution_count": null,
   "metadata": {},
   "outputs": [],
   "source": [
    "# transformer short\n",
    "mse = [0.1, 0.0217, 0.0279, 0.0257, 0.0304]\n",
    "mae = [0.1042, 0.1044, 0.1184, 0.115, 0.123]\n",
    "rmse = [0.3162, 0.1473, 0.1671, 0.1604, 0.1743]"
   ]
  },
  {
   "cell_type": "code",
   "execution_count": null,
   "metadata": {},
   "outputs": [],
   "source": [
    "# transformer long\n",
    "mse = [0.0274, 0.0288, 0.0291, 0.0288, 0.0296]\n",
    "mae = [0.1149, 0.12, 0.1202, 0.12, 0.1208]\n",
    "rmse = [0.1656, 0.1698, 0.1705, 0.1697, 0.1721]"
   ]
  },
  {
   "cell_type": "code",
   "execution_count": 32,
   "metadata": {},
   "outputs": [],
   "source": [
    "# informer short\n",
    "mse = [0.0224, 0.0211, 0.0241, 0.0216, 0.0193]\n",
    "mae = [0.1066, 0.1057, 0.1168, 0.105, 0.1032]\n",
    "rmse = [0.1496, 0.1451, 0.1553, 0.147, 0.1389]"
   ]
  },
  {
   "cell_type": "code",
   "execution_count": 33,
   "metadata": {},
   "outputs": [],
   "source": [
    "# informer short\n",
    "mse = [0.0261, 0.0252, 0.024, 0.0229, 0.0254]\n",
    "mae = [0.1114, 0.11, 0.1073, 0.1077, 0.1165]\n",
    "rmse = [0.1614, 0.1589, 0.155, 0.1514, 0.1594]"
   ]
  }
 ],
 "metadata": {
  "kernelspec": {
   "display_name": "ML",
   "language": "python",
   "name": "python3"
  },
  "language_info": {
   "codemirror_mode": {
    "name": "ipython",
    "version": 3
   },
   "file_extension": ".py",
   "mimetype": "text/x-python",
   "name": "python",
   "nbconvert_exporter": "python",
   "pygments_lexer": "ipython3",
   "version": "3.8.20"
  }
 },
 "nbformat": 4,
 "nbformat_minor": 2
}
