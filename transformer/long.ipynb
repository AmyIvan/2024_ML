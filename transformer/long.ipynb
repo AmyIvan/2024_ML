{
 "cells": [
  {
   "cell_type": "code",
   "execution_count": null,
   "metadata": {},
   "outputs": [
    {
     "name": "stdout",
     "output_type": "stream",
     "text": [
      "   instant    dteday  season   yr  mnth   hr  holiday  weekday  workingday  \\\n",
      "0      1.0  2011/1/1     1.0  0.0   1.0  0.0      0.0      6.0         0.0   \n",
      "1      2.0  2011/1/1     1.0  0.0   1.0  1.0      0.0      6.0         0.0   \n",
      "2      3.0  2011/1/1     1.0  0.0   1.0  2.0      0.0      6.0         0.0   \n",
      "3      4.0  2011/1/1     1.0  0.0   1.0  3.0      0.0      6.0         0.0   \n",
      "4      5.0  2011/1/1     1.0  0.0   1.0  4.0      0.0      6.0         0.0   \n",
      "\n",
      "   weathersit  temp   atemp   hum  windspeed  casual  registered   cnt  \n",
      "0         1.0  0.24  0.2879  0.81        0.0     3.0        13.0  16.0  \n",
      "1         1.0  0.22  0.2727  0.80        0.0     8.0        32.0  40.0  \n",
      "2         1.0  0.22  0.2727  0.80        0.0     5.0        27.0  32.0  \n",
      "3         1.0  0.24  0.2879  0.75        0.0     3.0        10.0  13.0  \n",
      "4         1.0  0.24  0.2879  0.75        0.0     0.0         1.0   1.0  \n",
      "<class 'pandas.core.frame.DataFrame'>\n",
      "RangeIndex: 15219 entries, 0 to 15218\n",
      "Data columns (total 17 columns):\n",
      " #   Column      Non-Null Count  Dtype  \n",
      "---  ------      --------------  -----  \n",
      " 0   instant     15216 non-null  float64\n",
      " 1   dteday      15216 non-null  object \n",
      " 2   season      15216 non-null  float64\n",
      " 3   yr          15216 non-null  float64\n",
      " 4   mnth        15216 non-null  float64\n",
      " 5   hr          15216 non-null  float64\n",
      " 6   holiday     15216 non-null  float64\n",
      " 7   weekday     15216 non-null  float64\n",
      " 8   workingday  15216 non-null  float64\n",
      " 9   weathersit  15216 non-null  float64\n",
      " 10  temp        15216 non-null  float64\n",
      " 11  atemp       15216 non-null  float64\n",
      " 12  hum         15216 non-null  float64\n",
      " 13  windspeed   15216 non-null  float64\n",
      " 14  casual      15216 non-null  float64\n",
      " 15  registered  15216 non-null  float64\n",
      " 16  cnt         15216 non-null  float64\n",
      "dtypes: float64(16), object(1)\n",
      "memory usage: 2.0+ MB\n",
      "None\n"
     ]
    }
   ],
   "source": [
    "import torch\n",
    "import pandas as pd\n",
    "import numpy as np\n",
    "\n",
    "# 读取../data/train_data.csv文件\n",
    "train_df = pd.read_csv('../data/train_data.csv')\n",
    "\n",
    "# 查看数据集的前几行，并打印数据集的基本信息\n",
    "print(train_df.head())\n",
    "print(train_df.info())"
   ]
  },
  {
   "cell_type": "code",
   "execution_count": null,
   "metadata": {},
   "outputs": [],
   "source": [
    "data_all = pd.DataFrame()\n",
    "\n",
    "categorical_covariates = ['dteday','season','yr','mnth','holiday','weekday','workingday','weathersit']\n",
    "\n",
    "categorical_covariates_num_embeddings = []\n",
    "for col in categorical_covariates:\n",
    "    data_all[col] = data_all[col].astype('category').cat.codes\n",
    "    categorical_covariates_num_embeddings.append(data_all[col].nunique())\n",
    "\n",
    "# \n",
    "\n",
    "numeric_covariates = ['temp','atemp','hum','windspeed','casual','registered']\n",
    "\n",
    "target_idx = np.where(np.array(numeric_covariates)=='sales')[0][0]\n",
    "\n",
    "\n",
    "\n",
    "# ,,,,,,,,,"
   ]
  }
 ],
 "metadata": {
  "kernelspec": {
   "display_name": "env_py_38",
   "language": "python",
   "name": "python3"
  },
  "language_info": {
   "codemirror_mode": {
    "name": "ipython",
    "version": 3
   },
   "file_extension": ".py",
   "mimetype": "text/x-python",
   "name": "python",
   "nbconvert_exporter": "python",
   "pygments_lexer": "ipython3",
   "version": "3.8.20"
  }
 },
 "nbformat": 4,
 "nbformat_minor": 2
}
