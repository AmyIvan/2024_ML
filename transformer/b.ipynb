{
 "cells": [
  {
   "cell_type": "code",
   "execution_count": null,
   "metadata": {},
   "outputs": [
    {
     "name": "stdout",
     "output_type": "stream",
     "text": [
      "7\n",
      "<class 'pandas.core.frame.DataFrame'>\n",
      "RangeIndex: 15219 entries, 0 to 15218\n",
      "Data columns (total 7 columns):\n",
      " #   Column      Non-Null Count  Dtype  \n",
      "---  ------      --------------  -----  \n",
      " 0   temp        15219 non-null  float64\n",
      " 1   atemp       15219 non-null  float64\n",
      " 2   hum         15219 non-null  float64\n",
      " 3   windspeed   15219 non-null  float64\n",
      " 4   casual      15219 non-null  float64\n",
      " 5   registered  15219 non-null  float64\n",
      " 6   cnt         15219 non-null  float64\n",
      "dtypes: float64(7)\n",
      "memory usage: 832.4 KB\n",
      "None\n"
     ]
    }
   ],
   "source": [
    "\n",
    "\n",
    "import numpy as np\n",
    "import pandas as pd\n",
    "import matplotlib.pyplot as plt\n",
    "import torch\n",
    "import torch.nn as nn\n",
    "from torch.optim import Adam\n",
    "from torch.utils.data import Dataset, DataLoader\n",
    "from sklearn.metrics import r2_score, mean_squared_error, mean_absolute_error\n",
    "from sklearn.preprocessing import MinMaxScaler\n",
    "from tqdm import tqdm\n",
    "\n",
    "\n",
    "\n",
    "# 输入的历史look_back步，和预测未来的T步\n",
    "look_back = 96\n",
    "T = 96\n",
    "epochs = 50    #迭代次数\n",
    "num_features=6  #输入特证数\n",
    "embed_dim = 32  #嵌入维度\n",
    "dense_dim= 64   #隐藏层神经元个数\n",
    "num_heads = 4   #头数\n",
    "dropout_rate = 0.01  #失活率\n",
    "num_blocks = 3  #编码器解码器数\n",
    "learn_rate = 0.001  #学习率\n",
    "batch_size = 32 #批大小\n",
    "\n",
    "# 读取数据\n",
    "dataset = pd.read_csv(r'../data/train_data.csv', usecols=[10,11,12,13,14,15,16])\n",
    "dataset2 = pd.read_csv(r'../data/test_data.csv', usecols=[10,11,12,13,14,15,16])\n",
    "\n",
    "# dataset = pd.read_csv(r'../data/train_data.csv', usecols=[16])\n",
    "# dataset2 = pd.read_csv(r'../data/test_data.csv', usecols=[16])\n",
    "\n",
    "dataset = dataset.fillna(dataset.mean())\n",
    "dataset2 = dataset2.fillna(dataset2.mean())\n",
    "\n",
    "\n",
    "dataX = dataset.values\n",
    "dataY = dataset['cnt'].values\n",
    "dataX2 = dataset2.values\n",
    "dataY2 = dataset2['cnt'].values\n",
    "\n",
    "\n",
    "\n",
    "num_features=len(dataX[0])  #输入特证数\n",
    "print(num_features)\n",
    "print(dataset.info())"
   ]
  },
  {
   "cell_type": "code",
   "execution_count": 111,
   "metadata": {},
   "outputs": [],
   "source": [
    "\n",
    "# 归一化数据\n",
    "scaler1 = MinMaxScaler(feature_range=(0, 1))\n",
    "scaler2 = MinMaxScaler(feature_range=(0, 1))\n",
    "data_X = scaler1.fit_transform(dataX)\n",
    "data_Y = scaler2.fit_transform(dataY.reshape(-1, 1))\n",
    "data_X2 = scaler1.fit_transform(dataX2)\n",
    "data_Y2 = scaler2.fit_transform(dataY2.reshape(-1, 1))\n",
    "\n",
    "\n",
    "\n",
    "#划分训练集和测试集，用70%作为训练集，20%作为验证集，10%作为测试集\n",
    "train_size  = int(len(data_X)*0.8) \n",
    "val_size = int(len(data_X)*0.2) \n",
    "# test_size = len(data_X) - train_size - val_size\n",
    "\n",
    "train_X,train_Y = data_X[0:train_size], data_Y[0:train_size]\n",
    "val_X,val_Y = data_X[train_size:train_size+val_size], data_Y[train_size:train_size+val_size]\n",
    "test_X,test_Y = data_X2, data_Y2\n",
    "\n",
    "step = 32\n",
    "# 定义输入数据，输出标签数据的格式的函数，并将数据转换为模型可接受的3D格式\n",
    "def create_dataset(datasetX, datasetY, look_back=1, T=1):\n",
    "    dataX, dataY = [], []\n",
    "    for i in range(0, len(datasetX) - look_back -T, step):\n",
    "        a = datasetX[i:(i + look_back), :]\n",
    "        dataX.append(a)\n",
    "        if T==1:\n",
    "            dataY.append(datasetY[i + look_back])\n",
    "        else:\n",
    "            dataY.append(datasetY[i + look_back:i + look_back+T,0])\n",
    "    return np.array(dataX), np.array(dataY)\n"
   ]
  },
  {
   "cell_type": "code",
   "execution_count": 112,
   "metadata": {},
   "outputs": [],
   "source": [
    "\n",
    "# 准备训练集和测试集的数据\n",
    "trainX, trainY = create_dataset(train_X, train_Y, look_back, T)\n",
    "valX, valY = create_dataset(val_X,val_Y, look_back, T)\n",
    "testX, testY = create_dataset(test_X, test_Y, look_back, T)\n",
    "\n",
    "# 转换为PyTorch的Tensor数据\n",
    "trainX = torch.Tensor(trainX)\n",
    "trainY = torch.Tensor(trainY)\n",
    "valX = torch.Tensor(valX)\n",
    "valY = torch.Tensor(valY)\n",
    "testX = torch.Tensor(testX)\n",
    "testY = torch.Tensor(testY)\n"
   ]
  },
  {
   "cell_type": "code",
   "execution_count": 113,
   "metadata": {},
   "outputs": [
    {
     "data": {
      "text/plain": [
       "torch.Size([62, 96, 7])"
      ]
     },
     "execution_count": 113,
     "metadata": {},
     "output_type": "execute_result"
    }
   ],
   "source": [
    "testX.shape"
   ]
  },
  {
   "cell_type": "code",
   "execution_count": 114,
   "metadata": {},
   "outputs": [
    {
     "data": {
      "text/plain": [
       "2016"
      ]
     },
     "execution_count": 114,
     "metadata": {},
     "output_type": "execute_result"
    }
   ],
   "source": [
    "21*96"
   ]
  },
  {
   "cell_type": "code",
   "execution_count": 115,
   "metadata": {},
   "outputs": [
    {
     "name": "stderr",
     "output_type": "stream",
     "text": [
      "100%|██████████| 12/12 [00:00<00:00, 50.87it/s]\n",
      "100%|██████████| 3/3 [00:00<00:00, 149.96it/s]\n"
     ]
    },
    {
     "name": "stdout",
     "output_type": "stream",
     "text": [
      "Epoch 1/50, Train Loss: 0.1083, Val Loss: 0.2352\n"
     ]
    },
    {
     "name": "stderr",
     "output_type": "stream",
     "text": [
      "100%|██████████| 12/12 [00:00<00:00, 51.91it/s]\n",
      "100%|██████████| 3/3 [00:00<00:00, 207.75it/s]\n"
     ]
    },
    {
     "name": "stdout",
     "output_type": "stream",
     "text": [
      "Epoch 2/50, Train Loss: 0.0780, Val Loss: 0.1147\n"
     ]
    },
    {
     "name": "stderr",
     "output_type": "stream",
     "text": [
      "100%|██████████| 12/12 [00:00<00:00, 54.31it/s]\n",
      "100%|██████████| 3/3 [00:00<00:00, 154.76it/s]\n"
     ]
    },
    {
     "name": "stdout",
     "output_type": "stream",
     "text": [
      "Epoch 3/50, Train Loss: 0.0379, Val Loss: 0.0983\n"
     ]
    },
    {
     "name": "stderr",
     "output_type": "stream",
     "text": [
      "100%|██████████| 12/12 [00:00<00:00, 48.41it/s]\n",
      "100%|██████████| 3/3 [00:00<00:00, 154.46it/s]\n"
     ]
    },
    {
     "name": "stdout",
     "output_type": "stream",
     "text": [
      "Epoch 4/50, Train Loss: 0.0268, Val Loss: 0.0797\n"
     ]
    },
    {
     "name": "stderr",
     "output_type": "stream",
     "text": [
      "100%|██████████| 12/12 [00:00<00:00, 42.12it/s]\n",
      "100%|██████████| 3/3 [00:00<00:00, 134.03it/s]\n"
     ]
    },
    {
     "name": "stdout",
     "output_type": "stream",
     "text": [
      "Epoch 5/50, Train Loss: 0.0262, Val Loss: 0.0842\n"
     ]
    },
    {
     "name": "stderr",
     "output_type": "stream",
     "text": [
      "100%|██████████| 12/12 [00:00<00:00, 43.10it/s]\n",
      "100%|██████████| 3/3 [00:00<00:00, 141.59it/s]\n"
     ]
    },
    {
     "name": "stdout",
     "output_type": "stream",
     "text": [
      "Epoch 6/50, Train Loss: 0.0269, Val Loss: 0.0741\n"
     ]
    },
    {
     "name": "stderr",
     "output_type": "stream",
     "text": [
      "100%|██████████| 12/12 [00:00<00:00, 42.97it/s]\n",
      "100%|██████████| 3/3 [00:00<00:00, 151.52it/s]\n"
     ]
    },
    {
     "name": "stdout",
     "output_type": "stream",
     "text": [
      "Epoch 7/50, Train Loss: 0.0236, Val Loss: 0.0849\n"
     ]
    },
    {
     "name": "stderr",
     "output_type": "stream",
     "text": [
      "100%|██████████| 12/12 [00:00<00:00, 42.65it/s]\n",
      "100%|██████████| 3/3 [00:00<00:00, 142.71it/s]\n"
     ]
    },
    {
     "name": "stdout",
     "output_type": "stream",
     "text": [
      "Epoch 8/50, Train Loss: 0.0278, Val Loss: 0.0774\n"
     ]
    },
    {
     "name": "stderr",
     "output_type": "stream",
     "text": [
      "100%|██████████| 12/12 [00:00<00:00, 44.05it/s]\n",
      "100%|██████████| 3/3 [00:00<00:00, 139.74it/s]\n"
     ]
    },
    {
     "name": "stdout",
     "output_type": "stream",
     "text": [
      "Epoch 9/50, Train Loss: 0.0202, Val Loss: 0.0754\n"
     ]
    },
    {
     "name": "stderr",
     "output_type": "stream",
     "text": [
      "100%|██████████| 12/12 [00:00<00:00, 43.51it/s]\n",
      "100%|██████████| 3/3 [00:00<00:00, 136.08it/s]\n"
     ]
    },
    {
     "name": "stdout",
     "output_type": "stream",
     "text": [
      "Epoch 10/50, Train Loss: 0.0178, Val Loss: 0.0611\n"
     ]
    },
    {
     "name": "stderr",
     "output_type": "stream",
     "text": [
      "100%|██████████| 12/12 [00:00<00:00, 42.98it/s]\n",
      "100%|██████████| 3/3 [00:00<00:00, 165.38it/s]\n"
     ]
    },
    {
     "name": "stdout",
     "output_type": "stream",
     "text": [
      "Epoch 11/50, Train Loss: 0.0154, Val Loss: 0.0721\n"
     ]
    },
    {
     "name": "stderr",
     "output_type": "stream",
     "text": [
      "100%|██████████| 12/12 [00:00<00:00, 42.51it/s]\n",
      "100%|██████████| 3/3 [00:00<00:00, 138.29it/s]\n"
     ]
    },
    {
     "name": "stdout",
     "output_type": "stream",
     "text": [
      "Epoch 12/50, Train Loss: 0.0196, Val Loss: 0.0598\n"
     ]
    },
    {
     "name": "stderr",
     "output_type": "stream",
     "text": [
      "100%|██████████| 12/12 [00:00<00:00, 42.23it/s]\n",
      "100%|██████████| 3/3 [00:00<00:00, 155.51it/s]\n"
     ]
    },
    {
     "name": "stdout",
     "output_type": "stream",
     "text": [
      "Epoch 13/50, Train Loss: 0.0153, Val Loss: 0.0502\n"
     ]
    },
    {
     "name": "stderr",
     "output_type": "stream",
     "text": [
      "100%|██████████| 12/12 [00:00<00:00, 41.72it/s]\n",
      "100%|██████████| 3/3 [00:00<00:00, 137.42it/s]\n"
     ]
    },
    {
     "name": "stdout",
     "output_type": "stream",
     "text": [
      "Epoch 14/50, Train Loss: 0.0148, Val Loss: 0.0515\n"
     ]
    },
    {
     "name": "stderr",
     "output_type": "stream",
     "text": [
      "100%|██████████| 12/12 [00:00<00:00, 43.24it/s]\n",
      "100%|██████████| 3/3 [00:00<00:00, 156.48it/s]\n"
     ]
    },
    {
     "name": "stdout",
     "output_type": "stream",
     "text": [
      "Epoch 15/50, Train Loss: 0.0173, Val Loss: 0.0548\n"
     ]
    },
    {
     "name": "stderr",
     "output_type": "stream",
     "text": [
      "100%|██████████| 12/12 [00:00<00:00, 43.24it/s]\n",
      "100%|██████████| 3/3 [00:00<00:00, 151.31it/s]\n"
     ]
    },
    {
     "name": "stdout",
     "output_type": "stream",
     "text": [
      "Epoch 16/50, Train Loss: 0.0172, Val Loss: 0.0496\n"
     ]
    },
    {
     "name": "stderr",
     "output_type": "stream",
     "text": [
      "100%|██████████| 12/12 [00:00<00:00, 42.24it/s]\n",
      "100%|██████████| 3/3 [00:00<00:00, 137.15it/s]\n"
     ]
    },
    {
     "name": "stdout",
     "output_type": "stream",
     "text": [
      "Epoch 17/50, Train Loss: 0.0145, Val Loss: 0.0573\n"
     ]
    },
    {
     "name": "stderr",
     "output_type": "stream",
     "text": [
      "100%|██████████| 12/12 [00:00<00:00, 42.64it/s]\n",
      "100%|██████████| 3/3 [00:00<00:00, 141.88it/s]\n"
     ]
    },
    {
     "name": "stdout",
     "output_type": "stream",
     "text": [
      "Epoch 18/50, Train Loss: 0.0152, Val Loss: 0.0466\n"
     ]
    },
    {
     "name": "stderr",
     "output_type": "stream",
     "text": [
      "100%|██████████| 12/12 [00:00<00:00, 42.28it/s]\n",
      "100%|██████████| 3/3 [00:00<00:00, 151.18it/s]\n"
     ]
    },
    {
     "name": "stdout",
     "output_type": "stream",
     "text": [
      "Epoch 19/50, Train Loss: 0.0169, Val Loss: 0.0583\n"
     ]
    },
    {
     "name": "stderr",
     "output_type": "stream",
     "text": [
      "100%|██████████| 12/12 [00:00<00:00, 41.88it/s]\n",
      "100%|██████████| 3/3 [00:00<00:00, 142.41it/s]\n"
     ]
    },
    {
     "name": "stdout",
     "output_type": "stream",
     "text": [
      "Epoch 20/50, Train Loss: 0.0186, Val Loss: 0.0421\n"
     ]
    },
    {
     "name": "stderr",
     "output_type": "stream",
     "text": [
      "100%|██████████| 12/12 [00:00<00:00, 43.25it/s]\n",
      "100%|██████████| 3/3 [00:00<00:00, 157.22it/s]\n"
     ]
    },
    {
     "name": "stdout",
     "output_type": "stream",
     "text": [
      "Epoch 21/50, Train Loss: 0.0141, Val Loss: 0.0385\n"
     ]
    },
    {
     "name": "stderr",
     "output_type": "stream",
     "text": [
      "100%|██████████| 12/12 [00:00<00:00, 42.38it/s]\n",
      "100%|██████████| 3/3 [00:00<00:00, 186.35it/s]\n"
     ]
    },
    {
     "name": "stdout",
     "output_type": "stream",
     "text": [
      "Epoch 22/50, Train Loss: 0.0140, Val Loss: 0.0595\n"
     ]
    },
    {
     "name": "stderr",
     "output_type": "stream",
     "text": [
      "100%|██████████| 12/12 [00:00<00:00, 43.24it/s]\n",
      "100%|██████████| 3/3 [00:00<00:00, 155.22it/s]\n"
     ]
    },
    {
     "name": "stdout",
     "output_type": "stream",
     "text": [
      "Epoch 23/50, Train Loss: 0.0132, Val Loss: 0.0394\n"
     ]
    },
    {
     "name": "stderr",
     "output_type": "stream",
     "text": [
      "100%|██████████| 12/12 [00:00<00:00, 41.18it/s]\n",
      "100%|██████████| 3/3 [00:00<00:00, 191.99it/s]\n"
     ]
    },
    {
     "name": "stdout",
     "output_type": "stream",
     "text": [
      "Epoch 24/50, Train Loss: 0.0153, Val Loss: 0.0400\n"
     ]
    },
    {
     "name": "stderr",
     "output_type": "stream",
     "text": [
      "100%|██████████| 12/12 [00:00<00:00, 42.23it/s]\n",
      "100%|██████████| 3/3 [00:00<00:00, 178.07it/s]\n"
     ]
    },
    {
     "name": "stdout",
     "output_type": "stream",
     "text": [
      "Epoch 25/50, Train Loss: 0.0122, Val Loss: 0.0503\n"
     ]
    },
    {
     "name": "stderr",
     "output_type": "stream",
     "text": [
      "100%|██████████| 12/12 [00:00<00:00, 41.89it/s]\n",
      "100%|██████████| 3/3 [00:00<00:00, 170.86it/s]\n"
     ]
    },
    {
     "name": "stdout",
     "output_type": "stream",
     "text": [
      "Epoch 26/50, Train Loss: 0.0110, Val Loss: 0.0419\n"
     ]
    },
    {
     "name": "stderr",
     "output_type": "stream",
     "text": [
      "100%|██████████| 12/12 [00:00<00:00, 41.84it/s]\n",
      "100%|██████████| 3/3 [00:00<00:00, 153.12it/s]\n"
     ]
    },
    {
     "name": "stdout",
     "output_type": "stream",
     "text": [
      "Epoch 27/50, Train Loss: 0.0134, Val Loss: 0.0411\n"
     ]
    },
    {
     "name": "stderr",
     "output_type": "stream",
     "text": [
      "100%|██████████| 12/12 [00:00<00:00, 42.15it/s]\n",
      "100%|██████████| 3/3 [00:00<00:00, 173.88it/s]\n"
     ]
    },
    {
     "name": "stdout",
     "output_type": "stream",
     "text": [
      "Epoch 28/50, Train Loss: 0.0114, Val Loss: 0.0367\n"
     ]
    },
    {
     "name": "stderr",
     "output_type": "stream",
     "text": [
      "100%|██████████| 12/12 [00:00<00:00, 41.50it/s]\n",
      "100%|██████████| 3/3 [00:00<00:00, 147.64it/s]\n"
     ]
    },
    {
     "name": "stdout",
     "output_type": "stream",
     "text": [
      "Epoch 29/50, Train Loss: 0.0133, Val Loss: 0.0330\n"
     ]
    },
    {
     "name": "stderr",
     "output_type": "stream",
     "text": [
      "100%|██████████| 12/12 [00:00<00:00, 42.36it/s]\n",
      "100%|██████████| 3/3 [00:00<00:00, 133.91it/s]\n"
     ]
    },
    {
     "name": "stdout",
     "output_type": "stream",
     "text": [
      "Epoch 30/50, Train Loss: 0.0122, Val Loss: 0.0395\n"
     ]
    },
    {
     "name": "stderr",
     "output_type": "stream",
     "text": [
      "100%|██████████| 12/12 [00:00<00:00, 42.04it/s]\n",
      "100%|██████████| 3/3 [00:00<00:00, 190.90it/s]\n"
     ]
    },
    {
     "name": "stdout",
     "output_type": "stream",
     "text": [
      "Epoch 31/50, Train Loss: 0.0141, Val Loss: 0.0363\n"
     ]
    },
    {
     "name": "stderr",
     "output_type": "stream",
     "text": [
      "100%|██████████| 12/12 [00:00<00:00, 42.88it/s]\n",
      "100%|██████████| 3/3 [00:00<00:00, 169.15it/s]\n"
     ]
    },
    {
     "name": "stdout",
     "output_type": "stream",
     "text": [
      "Epoch 32/50, Train Loss: 0.0130, Val Loss: 0.0403\n"
     ]
    },
    {
     "name": "stderr",
     "output_type": "stream",
     "text": [
      "100%|██████████| 12/12 [00:00<00:00, 41.76it/s]\n",
      "100%|██████████| 3/3 [00:00<00:00, 186.34it/s]\n"
     ]
    },
    {
     "name": "stdout",
     "output_type": "stream",
     "text": [
      "Epoch 33/50, Train Loss: 0.0136, Val Loss: 0.0326\n"
     ]
    },
    {
     "name": "stderr",
     "output_type": "stream",
     "text": [
      "100%|██████████| 12/12 [00:00<00:00, 42.69it/s]\n",
      "100%|██████████| 3/3 [00:00<00:00, 187.53it/s]\n"
     ]
    },
    {
     "name": "stdout",
     "output_type": "stream",
     "text": [
      "Epoch 34/50, Train Loss: 0.0134, Val Loss: 0.0374\n"
     ]
    },
    {
     "name": "stderr",
     "output_type": "stream",
     "text": [
      "100%|██████████| 12/12 [00:00<00:00, 42.80it/s]\n",
      "100%|██████████| 3/3 [00:00<00:00, 142.73it/s]\n"
     ]
    },
    {
     "name": "stdout",
     "output_type": "stream",
     "text": [
      "Epoch 35/50, Train Loss: 0.0104, Val Loss: 0.0318\n"
     ]
    },
    {
     "name": "stderr",
     "output_type": "stream",
     "text": [
      "100%|██████████| 12/12 [00:00<00:00, 41.52it/s]\n",
      "100%|██████████| 3/3 [00:00<00:00, 164.03it/s]\n"
     ]
    },
    {
     "name": "stdout",
     "output_type": "stream",
     "text": [
      "Epoch 36/50, Train Loss: 0.0107, Val Loss: 0.0383\n"
     ]
    },
    {
     "name": "stderr",
     "output_type": "stream",
     "text": [
      "100%|██████████| 12/12 [00:00<00:00, 44.13it/s]\n",
      "100%|██████████| 3/3 [00:00<00:00, 169.97it/s]\n"
     ]
    },
    {
     "name": "stdout",
     "output_type": "stream",
     "text": [
      "Epoch 37/50, Train Loss: 0.0127, Val Loss: 0.0333\n"
     ]
    },
    {
     "name": "stderr",
     "output_type": "stream",
     "text": [
      "100%|██████████| 12/12 [00:00<00:00, 43.03it/s]\n",
      "100%|██████████| 3/3 [00:00<00:00, 181.72it/s]\n"
     ]
    },
    {
     "name": "stdout",
     "output_type": "stream",
     "text": [
      "Epoch 38/50, Train Loss: 0.0110, Val Loss: 0.0352\n"
     ]
    },
    {
     "name": "stderr",
     "output_type": "stream",
     "text": [
      "100%|██████████| 12/12 [00:00<00:00, 43.36it/s]\n",
      "100%|██████████| 3/3 [00:00<00:00, 168.95it/s]\n"
     ]
    },
    {
     "name": "stdout",
     "output_type": "stream",
     "text": [
      "Epoch 39/50, Train Loss: 0.0137, Val Loss: 0.0279\n"
     ]
    },
    {
     "name": "stderr",
     "output_type": "stream",
     "text": [
      "100%|██████████| 12/12 [00:00<00:00, 42.60it/s]\n",
      "100%|██████████| 3/3 [00:00<00:00, 163.70it/s]\n"
     ]
    },
    {
     "name": "stdout",
     "output_type": "stream",
     "text": [
      "Epoch 40/50, Train Loss: 0.0099, Val Loss: 0.0364\n"
     ]
    },
    {
     "name": "stderr",
     "output_type": "stream",
     "text": [
      "100%|██████████| 12/12 [00:00<00:00, 40.84it/s]\n",
      "100%|██████████| 3/3 [00:00<00:00, 190.23it/s]\n"
     ]
    },
    {
     "name": "stdout",
     "output_type": "stream",
     "text": [
      "Epoch 41/50, Train Loss: 0.0111, Val Loss: 0.0299\n"
     ]
    },
    {
     "name": "stderr",
     "output_type": "stream",
     "text": [
      "100%|██████████| 12/12 [00:00<00:00, 44.50it/s]\n",
      "100%|██████████| 3/3 [00:00<00:00, 151.63it/s]\n"
     ]
    },
    {
     "name": "stdout",
     "output_type": "stream",
     "text": [
      "Epoch 42/50, Train Loss: 0.0103, Val Loss: 0.0302\n"
     ]
    },
    {
     "name": "stderr",
     "output_type": "stream",
     "text": [
      "100%|██████████| 12/12 [00:00<00:00, 42.15it/s]\n",
      "100%|██████████| 3/3 [00:00<00:00, 135.01it/s]\n"
     ]
    },
    {
     "name": "stdout",
     "output_type": "stream",
     "text": [
      "Epoch 43/50, Train Loss: 0.0111, Val Loss: 0.0279\n"
     ]
    },
    {
     "name": "stderr",
     "output_type": "stream",
     "text": [
      "100%|██████████| 12/12 [00:00<00:00, 39.19it/s]\n",
      "100%|██████████| 3/3 [00:00<00:00, 152.92it/s]\n"
     ]
    },
    {
     "name": "stdout",
     "output_type": "stream",
     "text": [
      "Epoch 44/50, Train Loss: 0.0106, Val Loss: 0.0280\n"
     ]
    },
    {
     "name": "stderr",
     "output_type": "stream",
     "text": [
      "100%|██████████| 12/12 [00:00<00:00, 39.74it/s]\n",
      "100%|██████████| 3/3 [00:00<00:00, 164.70it/s]\n"
     ]
    },
    {
     "name": "stdout",
     "output_type": "stream",
     "text": [
      "Epoch 45/50, Train Loss: 0.0116, Val Loss: 0.0256\n"
     ]
    },
    {
     "name": "stderr",
     "output_type": "stream",
     "text": [
      "100%|██████████| 12/12 [00:00<00:00, 41.00it/s]\n",
      "100%|██████████| 3/3 [00:00<00:00, 157.75it/s]\n"
     ]
    },
    {
     "name": "stdout",
     "output_type": "stream",
     "text": [
      "Epoch 46/50, Train Loss: 0.0086, Val Loss: 0.0278\n"
     ]
    },
    {
     "name": "stderr",
     "output_type": "stream",
     "text": [
      "100%|██████████| 12/12 [00:00<00:00, 40.58it/s]\n",
      "100%|██████████| 3/3 [00:00<00:00, 150.81it/s]\n"
     ]
    },
    {
     "name": "stdout",
     "output_type": "stream",
     "text": [
      "Epoch 47/50, Train Loss: 0.0101, Val Loss: 0.0271\n"
     ]
    },
    {
     "name": "stderr",
     "output_type": "stream",
     "text": [
      "100%|██████████| 12/12 [00:00<00:00, 40.78it/s]\n",
      "100%|██████████| 3/3 [00:00<00:00, 197.38it/s]\n"
     ]
    },
    {
     "name": "stdout",
     "output_type": "stream",
     "text": [
      "Epoch 48/50, Train Loss: 0.0124, Val Loss: 0.0286\n"
     ]
    },
    {
     "name": "stderr",
     "output_type": "stream",
     "text": [
      "100%|██████████| 12/12 [00:00<00:00, 42.36it/s]\n",
      "100%|██████████| 3/3 [00:00<00:00, 179.97it/s]\n"
     ]
    },
    {
     "name": "stdout",
     "output_type": "stream",
     "text": [
      "Epoch 49/50, Train Loss: 0.0105, Val Loss: 0.0284\n"
     ]
    },
    {
     "name": "stderr",
     "output_type": "stream",
     "text": [
      "100%|██████████| 12/12 [00:00<00:00, 42.97it/s]\n",
      "100%|██████████| 3/3 [00:00<00:00, 169.91it/s]\n"
     ]
    },
    {
     "name": "stdout",
     "output_type": "stream",
     "text": [
      "Epoch 50/50, Train Loss: 0.0112, Val Loss: 0.0277\n"
     ]
    },
    {
     "data": {
      "image/png": "[encoded data removed]",
      "text/plain": [
       "<Figure size 640x480 with 1 Axes>"
      ]
     },
     "metadata": {},
     "output_type": "display_data"
    },
    {
     "name": "stderr",
     "output_type": "stream",
     "text": [
      "100%|██████████| 2/2 [00:00<00:00, 163.40it/s]\n"
     ]
    },
    {
     "name": "stdout",
     "output_type": "stream",
     "text": [
      "R2: 0.372754954290625\n",
      "MAE: 114.39472\n",
      "RMSE: 157.8036\n",
      "MAPE: 2.8365786\n"
     ]
    },
    {
     "data": {
      "image/png": "[encoded data removed]",
      "text/plain": [
       "<Figure size 640x480 with 1 Axes>"
      ]
     },
     "metadata": {},
     "output_type": "display_data"
    }
   ],
   "source": [
    "\n",
    "# 构建Transformer模型\n",
    "class TransformerEncoder(nn.Module):\n",
    "    def __init__(self, embed_dim, dense_dim, num_heads, dropout_rate):\n",
    "        super(TransformerEncoder, self).__init__()\n",
    "\n",
    "        self.mha = nn.MultiheadAttention(embed_dim, num_heads)\n",
    "        self.layernorm1 = nn.LayerNorm(embed_dim)\n",
    "        self.dropout1 = nn.Dropout(dropout_rate)\n",
    "\n",
    "        self.dense1 = nn.Linear(embed_dim, dense_dim)\n",
    "        self.dense2 = nn.Linear(dense_dim, embed_dim)\n",
    "        self.layernorm2 = nn.LayerNorm(embed_dim)\n",
    "        self.dropout2 = nn.Dropout(dropout_rate)\n",
    "\n",
    "    def forward(self, inputs):\n",
    "        attn_output, _ = self.mha(inputs, inputs, inputs)\n",
    "        attn_output = self.dropout1(attn_output)\n",
    "        out1 = self.layernorm1(inputs + attn_output)\n",
    "\n",
    "        dense_output = self.dense1(out1)\n",
    "        dense_output = self.dense2(dense_output)\n",
    "        dense_output = self.dropout2(dense_output)\n",
    "        out2 = self.layernorm2(out1 + dense_output)\n",
    "\n",
    "        return out2\n",
    "\n",
    "class TransformerDecoder(nn.Module):\n",
    "    def __init__(self, embed_dim, dense_dim, num_heads, dropout_rate):\n",
    "        super(TransformerDecoder, self).__init__()\n",
    "\n",
    "        self.mha1 = nn.MultiheadAttention(embed_dim, num_heads)\n",
    "        self.mha2 = nn.MultiheadAttention(embed_dim, num_heads)\n",
    "        self.layernorm1 = nn.LayerNorm(embed_dim)\n",
    "        self.layernorm2 = nn.LayerNorm(embed_dim)\n",
    "        self.layernorm3 = nn.LayerNorm(embed_dim)\n",
    "        self.dropout1 = nn.Dropout(dropout_rate)\n",
    "        self.dropout2 = nn.Dropout(dropout_rate)\n",
    "        self.dropout3 = nn.Dropout(dropout_rate)\n",
    "\n",
    "        self.dense1 = nn.Linear(embed_dim, dense_dim)\n",
    "        self.dense2 = nn.Linear(dense_dim, embed_dim)\n",
    "        self.layernorm4 = nn.LayerNorm(embed_dim)\n",
    "        self.dropout4 = nn.Dropout(dropout_rate)\n",
    "\n",
    "    def forward(self, inputs, encoder_outputs):\n",
    "        attn1, _ = self.mha1(inputs, inputs, inputs)\n",
    "        attn1 = self.dropout1(attn1)\n",
    "        out1 = self.layernorm1(inputs + attn1)\n",
    "\n",
    "        attn2, _ = self.mha2(out1, encoder_outputs, encoder_outputs)\n",
    "        attn2 = self.dropout2(attn2)\n",
    "        out2 = self.layernorm2(out1 + attn2)\n",
    "\n",
    "        dense_output = self.dense1(out2)\n",
    "        dense_output = self.dense2(dense_output)\n",
    "        dense_output = self.dropout3(dense_output)\n",
    "        out3 = self.layernorm3(out2 + dense_output)\n",
    "\n",
    "        decoder_output = self.dense1(out3)\n",
    "        decoder_output = self.dense2(decoder_output)\n",
    "        decoder_output = self.dropout4(decoder_output)\n",
    "        out4 = self.layernorm4(out3 + decoder_output)\n",
    "\n",
    "        return out4\n",
    "\n",
    "class Transformer(nn.Module):\n",
    "    def __init__(self, num_features,embed_dim, dense_dim, num_heads, dropout_rate, num_blocks, output_sequence_length):\n",
    "        super(Transformer, self).__init__()\n",
    "\n",
    "        self.embedding = nn.Linear(num_features, embed_dim)\n",
    "        self.transformer_encoder = nn.ModuleList([TransformerEncoder(embed_dim, dense_dim, num_heads, dropout_rate) for _ in range(num_blocks)])\n",
    "        self.transformer_decoder = nn.ModuleList([TransformerDecoder(embed_dim, dense_dim, num_heads, dropout_rate) for _ in range(num_blocks)])\n",
    "        self.final_layer = nn.Linear(embed_dim * look_back, output_sequence_length)\n",
    "\n",
    "    def forward(self, inputs):\n",
    "        encoder_inputs = inputs\n",
    "        decoder_inputs = inputs\n",
    "\n",
    "        encoder_outputs = self.embedding(encoder_inputs)\n",
    "        for i in range(len(self.transformer_encoder)):\n",
    "            encoder_outputs = self.transformer_encoder[i](encoder_outputs)\n",
    "\n",
    "        decoder_outputs = self.embedding(decoder_inputs)\n",
    "        for i in range(len(self.transformer_decoder)):\n",
    "            decoder_outputs = self.transformer_decoder[i](decoder_outputs, encoder_outputs)\n",
    "\n",
    "        decoder_outputs = decoder_outputs.view(-1, decoder_outputs.shape[1] * decoder_outputs.shape[2])\n",
    "        decoder_outputs = self.final_layer(decoder_outputs)\n",
    "        decoder_outputs = decoder_outputs.view(-1, T)\n",
    "        return decoder_outputs\n",
    "\n",
    "# 定义训练集和测试集的数据加载器\n",
    "class MyDataset(Dataset):\n",
    "    def __init__(self, data_X, data_Y):\n",
    "        self.data_X = data_X\n",
    "        self.data_Y = data_Y\n",
    "\n",
    "    def __getitem__(self, index):\n",
    "        x = self.data_X[index]\n",
    "        y = self.data_Y[index]\n",
    "        return x, y\n",
    "\n",
    "    def __len__(self):\n",
    "        return len(self.data_X)\n",
    "\n",
    "train_dataset = MyDataset(trainX, trainY)\n",
    "val_dataset = MyDataset(valX, valY)\n",
    "test_dataset = MyDataset(testX, testY)\n",
    "\n",
    "train_loader = DataLoader(train_dataset, batch_size=batch_size, shuffle=True)\n",
    "val_loader = DataLoader(val_dataset, batch_size=batch_size, shuffle=False)\n",
    "test_loader = DataLoader(test_dataset, batch_size=batch_size, shuffle=False)\n",
    "\n",
    "# 创建模型实例\n",
    "model = Transformer(num_features=num_features,embed_dim=embed_dim, dense_dim=dense_dim, num_heads=num_heads, dropout_rate=dropout_rate, num_blocks=num_blocks, output_sequence_length=T)\n",
    "device = torch.device(\"cuda:1\" if torch.cuda.is_available() else \"cpu\")\n",
    "model.to(device)\n",
    "\n",
    "# 定义损失函数和优化器\n",
    "criterion = nn.MSELoss()\n",
    "optimizer = torch.optim.Adam(model.parameters(), lr=learn_rate)\n",
    "\n",
    "train_losses = []\n",
    "val_losses = []\n",
    "# 训练模型\n",
    "for epoch in range(epochs):\n",
    "    model.train()\n",
    "    for inputs, labels in tqdm(train_loader ,position=0):\n",
    "        inputs = inputs.to(device)\n",
    "        labels = labels.to(device)\n",
    "\n",
    "        optimizer.zero_grad()\n",
    "\n",
    "        outputs = model.forward(inputs)\n",
    "        loss = criterion(outputs, labels)\n",
    "\n",
    "        loss.backward()\n",
    "        optimizer.step()\n",
    "\n",
    "    # 在验证集上计算损失\n",
    "    with torch.no_grad():\n",
    "        for inputs, labels in tqdm(val_loader ,position=0):\n",
    "            inputs = inputs.to(device)\n",
    "            labels = labels.to(device)\n",
    "            outputs = model.forward(inputs)\n",
    "            val_loss = criterion(outputs, labels)\n",
    "    train_losses.append(loss.item())\n",
    "    val_losses.append(val_loss.item())      \n",
    "            \n",
    "    # 每个epoch打印一次训练和验证损失\n",
    "    print(f'Epoch {epoch+1}/{epochs}, Train Loss: {loss.item():.4f}, Val Loss: {val_loss.item():.4f}')\n",
    "\n",
    "# 可视化损失函数\n",
    "plt.plot(range(1, epochs+1), train_losses, label='Train Loss')\n",
    "plt.plot(range(1, epochs+1), val_losses, label='Val Loss')\n",
    "plt.xlabel('Epoch')\n",
    "plt.ylabel('Loss')\n",
    "plt.legend()\n",
    "plt.show()\n",
    "\n",
    "# 测试模型\n",
    "model.eval()\n",
    "predictions = []\n",
    "with torch.no_grad():\n",
    "    for inputs, labels in tqdm(test_loader ,position=0):\n",
    "        inputs = inputs.to(device)\n",
    "\n",
    "        outputs = model(inputs)\n",
    "        predictions.extend(outputs.cpu().numpy())\n",
    "\n",
    "predictions = np.array(predictions).reshape(-1, 1)\n",
    "labels = (testY.cpu().numpy()).reshape(-1, 1)\n",
    "\n",
    "#测试集数据反归一化\n",
    "predictions = scaler2.inverse_transform(predictions)\n",
    "labels = scaler2.inverse_transform(labels)\n",
    "\n",
    "# 计算模型的评价指标\n",
    "r2 = r2_score(labels, predictions)\n",
    "mae = mean_absolute_error(labels, predictions)\n",
    "rmse = np.sqrt(mean_squared_error(labels, predictions))\n",
    "mape = np.mean(np.abs((labels - predictions) / labels))\n",
    "\n",
    "# 打印模型的评价指标\n",
    "print('R2:', r2)\n",
    "print('MAE:', mae)\n",
    "print('RMSE:', rmse)\n",
    "print('MAPE:', mape)\n",
    "\n",
    "# 可视化预测结果\n",
    "plt.xlabel('', fontsize=13)\n",
    "plt.ylabel('', fontsize=13)\n",
    "plt.plot(labels, label='True Value')\n",
    "plt.plot(predictions, label='Prediction Value')\n",
    "plt.legend(fontsize=13)\n",
    "plt.show()\n"
   ]
  },
  {
   "cell_type": "code",
   "execution_count": 121,
   "metadata": {},
   "outputs": [
    {
     "data": {
      "text/plain": [
       "(5952, 1)"
      ]
     },
     "execution_count": 121,
     "metadata": {},
     "output_type": "execute_result"
    }
   ],
   "source": [
    "labels.shape"
   ]
  },
  {
   "cell_type": "code",
   "execution_count": 122,
   "metadata": {},
   "outputs": [
    {
     "data": {
      "text/plain": [
       "(5952, 1)"
      ]
     },
     "execution_count": 122,
     "metadata": {},
     "output_type": "execute_result"
    }
   ],
   "source": [
    "predictions.shape"
   ]
  },
  {
   "cell_type": "code",
   "execution_count": 117,
   "metadata": {},
   "outputs": [
    {
     "data": {
      "text/plain": [
       "24025"
      ]
     },
     "execution_count": 117,
     "metadata": {},
     "output_type": "execute_result"
    }
   ],
   "source": [
    "155*155"
   ]
  },
  {
   "cell_type": "code",
   "execution_count": 123,
   "metadata": {},
   "outputs": [
    {
     "data": {
      "image/png": "[encoded data removed]",
      "text/plain": [
       "<Figure size 640x480 with 1 Axes>"
      ]
     },
     "metadata": {},
     "output_type": "display_data"
    }
   ],
   "source": [
    "import matplotlib.pyplot as plt\n",
    "import numpy as np\n",
    "\n",
    "# 定义数组\n",
    "y1 = [1, 2, 3, 4]  # 第一条曲线\n",
    "y2 = [3, 4]        # 第二条曲线\n",
    "\n",
    "labels1 = labels[::96//step]\n",
    "predictions1 = predictions[::96//step]\n",
    "\n",
    "\n",
    "    \n",
    "\n",
    "\n",
    "i = 866\n",
    "y1 = np.concatenate((labels1[i:i+T], labels1[i+T:i+2*T]))\n",
    "y2 = predictions1[i:i+T]\n",
    "\n",
    "# 计算两条曲线的 x 轴范围\n",
    "x1 = np.arange(len(y1))  # x1: [0, 1, 2, 3]\n",
    "x2 = np.arange(len(y1) - len(y2), len(y1))  # x2: [2, 3]\n",
    "\n",
    "# 绘制曲线\n",
    "plt.plot(x1, y1, label=\"True\")  # 第一条曲线\n",
    "plt.plot(x2, y2, label=\"Prediction\")  # 第二条曲线\n",
    "\n",
    "# 添加图例和标题\n",
    "plt.legend()\n",
    "\n",
    "# plt.xlabel(\"X\")\n",
    "# plt.ylabel(\"Y\")\n",
    "\n",
    "# 显示图形\n",
    "plt.show()\n"
   ]
  }
 ],
 "metadata": {
  "kernelspec": {
   "display_name": "ML",
   "language": "python",
   "name": "python3"
  },
  "language_info": {
   "codemirror_mode": {
    "name": "ipython",
    "version": 3
   },
   "file_extension": ".py",
   "mimetype": "text/x-python",
   "name": "python",
   "nbconvert_exporter": "python",
   "pygments_lexer": "ipython3",
   "version": "3.8.20"
  }
 },
 "nbformat": 4,
 "nbformat_minor": 2
}
